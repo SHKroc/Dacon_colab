{
  "nbformat": 4,
  "nbformat_minor": 0,
  "metadata": {
    "colab": {
      "name": "Lv1_전처리_2/2_결측치삭제하기, 대체하기(dropna(),fillna())",
      "provenance": [],
      "collapsed_sections": [
        "AUk_fCmVhtIc"
      ],
      "toc_visible": true,
      "include_colab_link": true
    },
    "kernelspec": {
      "name": "python3",
      "display_name": "Python 3"
    },
    "language_info": {
      "name": "python"
    }
  },
  "cells": [
    {
      "cell_type": "markdown",
      "metadata": {
        "id": "view-in-github",
        "colab_type": "text"
      },
      "source": [
        "<a href=\"https://colab.research.google.com/github/SHKroc/Dacon_colab/blob/main/Lv1_%EC%A0%84%EC%B2%98%EB%A6%AC_2_2_%EA%B2%B0%EC%B8%A1%EC%B9%98%EC%82%AD%EC%A0%9C%ED%95%98%EA%B8%B0%2C_%EB%8C%80%EC%B2%B4%ED%95%98%EA%B8%B0(dropna()%2Cfillna()).ipynb\" target=\"_parent\"><img src=\"https://colab.research.google.com/assets/colab-badge.svg\" alt=\"Open In Colab\"/></a>"
      ]
    },
    {
      "cell_type": "markdown",
      "metadata": {
        "id": "vIpjpOEXsoW0"
      },
      "source": [
        "# [↩️ 리스트로 돌아가기](https://dacon.io/competitions/open/235698/overview/description)"
      ]
    },
    {
      "cell_type": "markdown",
      "metadata": {
        "id": "-Xk4YBNFhkPe"
      },
      "source": [
        "# 셀을 실행할 때 팝업이 뜨면 `무시하고 계속하기` 를 눌러주세요\n"
      ]
    },
    {
      "cell_type": "markdown",
      "metadata": {
        "id": "7A1_NrpnNgI0"
      },
      "source": [
        "## 데이터 다운로드\n",
        "--- \n",
        "아래 셀을 실행시켜 데이터를 colab에 불러옵니다.  \n",
        "셀 실행은 Ctrl + Enter 를 이용해 실행 시킬 수 있습니다. "
      ]
    },
    {
      "cell_type": "code",
      "metadata": {
        "id": "a3VxvpLvhnap",
        "colab": {
          "base_uri": "https://localhost:8080/"
        },
        "outputId": "9a969ce3-1140-494c-a35b-8c74313599a7"
      },
      "source": [
        "# 데이터 다운로드 링크로 데이터를 코랩에 불러옵니다.\n",
        "\n",
        "!wget 'https://bit.ly/3gLj0Q6'\n",
        "\n",
        "import zipfile\n",
        "with zipfile.ZipFile('3gLj0Q6', 'r') as existing_zip:\n",
        "    existing_zip.extractall('data')"
      ],
      "execution_count": 6,
      "outputs": [
        {
          "output_type": "stream",
          "name": "stdout",
          "text": [
            "--2022-03-30 13:10:29--  https://bit.ly/3gLj0Q6\n",
            "Resolving bit.ly (bit.ly)... 67.199.248.11, 67.199.248.10\n",
            "Connecting to bit.ly (bit.ly)|67.199.248.11|:443... connected.\n",
            "HTTP request sent, awaiting response... 301 Moved Permanently\n",
            "Location: https://drive.google.com/uc?export=download&id=1or_QN1ksv81DNog6Tu_kWcZ5jJWf5W9E [following]\n",
            "--2022-03-30 13:10:29--  https://drive.google.com/uc?export=download&id=1or_QN1ksv81DNog6Tu_kWcZ5jJWf5W9E\n",
            "Resolving drive.google.com (drive.google.com)... 142.251.45.14, 2607:f8b0:4004:c08::71, 2607:f8b0:4004:c08::65, ...\n",
            "Connecting to drive.google.com (drive.google.com)|142.251.45.14|:443... connected.\n",
            "HTTP request sent, awaiting response... 303 See Other\n",
            "Location: https://doc-0c-10-docs.googleusercontent.com/docs/securesc/ha0ro937gcuc7l7deffksulhg5h7mbp1/ofcqgft94j26045dh82hlat7ljohkih8/1648645800000/17946651057176172524/*/1or_QN1ksv81DNog6Tu_kWcZ5jJWf5W9E?e=download [following]\n",
            "Warning: wildcards not supported in HTTP.\n",
            "--2022-03-30 13:10:30--  https://doc-0c-10-docs.googleusercontent.com/docs/securesc/ha0ro937gcuc7l7deffksulhg5h7mbp1/ofcqgft94j26045dh82hlat7ljohkih8/1648645800000/17946651057176172524/*/1or_QN1ksv81DNog6Tu_kWcZ5jJWf5W9E?e=download\n",
            "Resolving doc-0c-10-docs.googleusercontent.com (doc-0c-10-docs.googleusercontent.com)... 172.253.63.132, 2607:f8b0:4004:c08::84\n",
            "Connecting to doc-0c-10-docs.googleusercontent.com (doc-0c-10-docs.googleusercontent.com)|172.253.63.132|:443... connected.\n",
            "HTTP request sent, awaiting response... 200 OK\n",
            "Length: 39208 (38K) [application/zip]\n",
            "Saving to: ‘3gLj0Q6’\n",
            "\n",
            "3gLj0Q6             100%[===================>]  38.29K  --.-KB/s    in 0.007s  \n",
            "\n",
            "2022-03-30 13:10:30 (5.19 MB/s) - ‘3gLj0Q6’ saved [39208/39208]\n",
            "\n"
          ]
        }
      ]
    },
    {
      "cell_type": "markdown",
      "metadata": {
        "id": "gx8XCXCxeQk8"
      },
      "source": [
        "## 데이터 불러오기\n",
        "---\n",
        "아래 셀을 실행시켜 train.csv 와 test.csv 를 dataframe 객체의 train 이라는 변수명과 test 라는 변수명으로 불러옵니다."
      ]
    },
    {
      "cell_type": "code",
      "metadata": {
        "id": "kt_IKrkPeNwQ"
      },
      "source": [
        "import pandas as pd\n",
        "\n",
        "# 정답 코드\n",
        "train = pd.read_csv('data/train.csv') \n",
        "test = pd.read_csv('data/test.csv')"
      ],
      "execution_count": 7,
      "outputs": []
    },
    {
      "cell_type": "markdown",
      "metadata": {
        "id": "Q453R09NhqYM"
      },
      "source": [
        "## 👋 실습\n",
        "---\n",
        "DataFrame 객체의 dropna() 매서드를 사용해서 train 과 test 의 결측치를 삭제하는 코드를 아래에 작성하세요."
      ]
    },
    {
      "cell_type": "code",
      "metadata": {
        "id": "zAnhzBdphqBA"
      },
      "source": [
        "train = train.dropna()\n",
        "test = test.fillna(0) # 왜??????"
      ],
      "execution_count": 12,
      "outputs": []
    },
    {
      "cell_type": "markdown",
      "metadata": {
        "id": "AUk_fCmVhtIc"
      },
      "source": [
        "## 정답\n",
        "---\n",
        "질문사항을 얼마든지 [게시글](https://dacon.io/competitions/open/235698/talkboard/403490)에 남겨주세요 😉 <br>\n",
        "궁금한 것, 이해가 안 되는 것, 원리, 확장개념, 참고 등등 모든 범위에서 얼마든지 질문을 달아주세요 🙋"
      ]
    },
    {
      "cell_type": "code",
      "metadata": {
        "id": "SXmFFc3Whp0_"
      },
      "source": [
        "# 정답 코드\n",
        "\n",
        "train = train.dropna()\n",
        "test = test.fillna(0)"
      ],
      "execution_count": null,
      "outputs": []
    },
    {
      "cell_type": "markdown",
      "metadata": {
        "id": "2IBrYZECtZWn"
      },
      "source": [
        "# [↩️ 리스트로 돌아가기](https://dacon.io/competitions/open/235698/overview/description)"
      ]
    }
  ]
}